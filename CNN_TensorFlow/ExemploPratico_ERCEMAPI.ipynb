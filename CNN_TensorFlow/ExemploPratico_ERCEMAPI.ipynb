{
  "nbformat": 4,
  "nbformat_minor": 0,
  "metadata": {
    "colab": {
      "name": "ExemploPratico-ERCEMAPI.ipynb",
      "provenance": []
    },
    "kernelspec": {
      "name": "python3",
      "display_name": "Python 3"
    }
  },
  "cells": [
    {
      "cell_type": "markdown",
      "metadata": {
        "id": "eAmwFJ2oMc0b",
        "colab_type": "text"
      },
      "source": [
        "<p align=\"center\">\n",
        "  <img src=\"https://storage.googleapis.com/kaggle-datasets-images/2243/3791/9384af51de8baa77f6320901f53bd26b/dataset-cover.png\" />\n",
        "  Image source: https://www.kaggle.com/\n",
        "</p>\n",
        "\n",
        "<h3>Exemplo de Rede Neural para classificação de Imagens</h3>"
      ]
    },
    {
      "cell_type": "markdown",
      "metadata": {
        "id": "cwgOYKm3MfH7",
        "colab_type": "text"
      },
      "source": [
        "**Importando Bibliotecas**\n"
      ]
    },
    {
      "cell_type": "code",
      "metadata": {
        "id": "Yf4GM7eYMLR0",
        "colab_type": "code",
        "colab": {}
      },
      "source": [
        "import numpy as np\n",
        "import tensorflow as tf\n",
        "from tensorflow.keras.datasets import fashion_mnist\n"
      ],
      "execution_count": null,
      "outputs": []
    },
    {
      "cell_type": "markdown",
      "metadata": {
        "id": "GIvoIDXPT8fV",
        "colab_type": "text"
      },
      "source": [
        "**Carregando o dataset**"
      ]
    },
    {
      "cell_type": "code",
      "metadata": {
        "id": "RxeDUIF5UGf4",
        "colab_type": "code",
        "colab": {
          "base_uri": "https://localhost:8080/",
          "height": 156
        },
        "outputId": "8f69c1ba-755e-40b7-98f0-3251f63a0a2d"
      },
      "source": [
        "(X_treino, Y_treino), (X_teste, Y_teste) = fashion_mnist.load_data()"
      ],
      "execution_count": null,
      "outputs": [
        {
          "output_type": "stream",
          "text": [
            "Downloading data from https://storage.googleapis.com/tensorflow/tf-keras-datasets/train-labels-idx1-ubyte.gz\n",
            "32768/29515 [=================================] - 0s 0us/step\n",
            "Downloading data from https://storage.googleapis.com/tensorflow/tf-keras-datasets/train-images-idx3-ubyte.gz\n",
            "26427392/26421880 [==============================] - 0s 0us/step\n",
            "Downloading data from https://storage.googleapis.com/tensorflow/tf-keras-datasets/t10k-labels-idx1-ubyte.gz\n",
            "8192/5148 [===============================================] - 0s 0us/step\n",
            "Downloading data from https://storage.googleapis.com/tensorflow/tf-keras-datasets/t10k-images-idx3-ubyte.gz\n",
            "4423680/4422102 [==============================] - 0s 0us/step\n"
          ],
          "name": "stdout"
        }
      ]
    },
    {
      "cell_type": "markdown",
      "metadata": {
        "id": "3G8nH7UUUX1b",
        "colab_type": "text"
      },
      "source": [
        "**Realizando a Normalzação e Reshape dos dados**\n"
      ]
    },
    {
      "cell_type": "code",
      "metadata": {
        "id": "km0oQekIUbwa",
        "colab_type": "code",
        "colab": {}
      },
      "source": [
        "#normalização\n",
        "X_treino = X_treino/255.0\n",
        "X_teste = X_teste/255.0\n",
        "\n",
        "#reshape dos dados\n",
        "X_treino = X_treino.reshape(-1, 28*28)\n",
        "X_teste = X_teste.reshape(-1, 28*28)\n",
        "\n"
      ],
      "execution_count": null,
      "outputs": []
    },
    {
      "cell_type": "markdown",
      "metadata": {
        "id": "X1kx4tvobnCC",
        "colab_type": "text"
      },
      "source": [
        "**Construção do Modelo de Rede Neural Artificial**"
      ]
    },
    {
      "cell_type": "code",
      "metadata": {
        "id": "4setvPAdCxzA",
        "colab_type": "code",
        "colab": {}
      },
      "source": [
        "#definição do modelo\n",
        "model = tf.keras.models.Sequential()\n",
        "model.add(tf.keras.layers.Dense(units=32, activation='relu', input_shape=(784, )))\n",
        "model.add(tf.keras.layers.Dropout(0.4))\n",
        "model.add(tf.keras.layers.Dense(units=64, activation='relu'))\n",
        "model.add(tf.keras.layers.Dropout(0.6))\n",
        "model.add(tf.keras.layers.Dense(128, activation='relu'))\n",
        "model.add(tf.keras.layers.Dense(units=10, activation='softmax'))"
      ],
      "execution_count": null,
      "outputs": []
    },
    {
      "cell_type": "markdown",
      "metadata": {
        "id": "Ht5RqUsNgX0Y",
        "colab_type": "text"
      },
      "source": [
        "**Compilando o Modelo**\n"
      ]
    },
    {
      "cell_type": "code",
      "metadata": {
        "id": "WPIiyaXZgam6",
        "colab_type": "code",
        "colab": {}
      },
      "source": [
        "model.compile(optimizer='adam', loss='sparse_categorical_crossentropy', metrics=['sparse_categorical_accuracy'])"
      ],
      "execution_count": null,
      "outputs": []
    },
    {
      "cell_type": "markdown",
      "metadata": {
        "id": "9_ybDNTlhGNo",
        "colab_type": "text"
      },
      "source": [
        "**Treinamento**"
      ]
    },
    {
      "cell_type": "code",
      "metadata": {
        "id": "GZvUA8EOhIi_",
        "colab_type": "code",
        "colab": {
          "base_uri": "https://localhost:8080/",
          "height": 381
        },
        "outputId": "f02ee0d9-f9a5-46b6-f8ef-bf4262d75f2c"
      },
      "source": [
        "model.fit(X_treino, Y_treino, epochs=10)"
      ],
      "execution_count": null,
      "outputs": [
        {
          "output_type": "stream",
          "text": [
            "Epoch 1/10\n",
            "1875/1875 [==============================] - 4s 2ms/step - loss: 1.0151 - sparse_categorical_accuracy: 0.6090\n",
            "Epoch 2/10\n",
            "1875/1875 [==============================] - 3s 2ms/step - loss: 0.7531 - sparse_categorical_accuracy: 0.7212\n",
            "Epoch 3/10\n",
            "1875/1875 [==============================] - 3s 2ms/step - loss: 0.6975 - sparse_categorical_accuracy: 0.7428\n",
            "Epoch 4/10\n",
            "1875/1875 [==============================] - 3s 2ms/step - loss: 0.6694 - sparse_categorical_accuracy: 0.7528\n",
            "Epoch 5/10\n",
            "1875/1875 [==============================] - 3s 2ms/step - loss: 0.6506 - sparse_categorical_accuracy: 0.7608\n",
            "Epoch 6/10\n",
            "1875/1875 [==============================] - 3s 2ms/step - loss: 0.6343 - sparse_categorical_accuracy: 0.7652\n",
            "Epoch 7/10\n",
            "1875/1875 [==============================] - 3s 2ms/step - loss: 0.6243 - sparse_categorical_accuracy: 0.7714\n",
            "Epoch 8/10\n",
            "1875/1875 [==============================] - 3s 2ms/step - loss: 0.6118 - sparse_categorical_accuracy: 0.7765\n",
            "Epoch 9/10\n",
            "1875/1875 [==============================] - 3s 2ms/step - loss: 0.5995 - sparse_categorical_accuracy: 0.7793\n",
            "Epoch 10/10\n",
            "1875/1875 [==============================] - 3s 2ms/step - loss: 0.5998 - sparse_categorical_accuracy: 0.7789\n"
          ],
          "name": "stdout"
        },
        {
          "output_type": "execute_result",
          "data": {
            "text/plain": [
              "<tensorflow.python.keras.callbacks.History at 0x7f796c7f7668>"
            ]
          },
          "metadata": {
            "tags": []
          },
          "execution_count": 6
        }
      ]
    },
    {
      "cell_type": "code",
      "metadata": {
        "id": "8K0N-xcwhcqX",
        "colab_type": "code",
        "colab": {
          "base_uri": "https://localhost:8080/",
          "height": 35
        },
        "outputId": "4941cc66-d393-4113-ad14-89a637e23f4c"
      },
      "source": [
        "Teste_perda, Test_acuracia = model.evaluate(X_teste, Y_teste)"
      ],
      "execution_count": null,
      "outputs": [
        {
          "output_type": "stream",
          "text": [
            "313/313 [==============================] - 0s 1ms/step - loss: 0.5603 - sparse_categorical_accuracy: 0.8125\n"
          ],
          "name": "stdout"
        }
      ]
    },
    {
      "cell_type": "code",
      "metadata": {
        "id": "kLRBKI_8hrHa",
        "colab_type": "code",
        "colab": {
          "base_uri": "https://localhost:8080/",
          "height": 35
        },
        "outputId": "59b5731e-a9f8-4d58-d448-e11ee582b838"
      },
      "source": [
        "print(\"Acurácia para os dados de teste: {}\".format(Test_acuracia))"
      ],
      "execution_count": null,
      "outputs": [
        {
          "output_type": "stream",
          "text": [
            "Acurácia para os dados de teste: 0.8125\n"
          ],
          "name": "stdout"
        }
      ]
    }
  ]
}